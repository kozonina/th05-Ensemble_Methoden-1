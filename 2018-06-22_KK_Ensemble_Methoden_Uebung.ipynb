{
 "cells": [
  {
   "cell_type": "markdown",
   "metadata": {},
   "source": [
    "# Übungen zu Ensemble Methoden"
   ]
  },
  {
   "cell_type": "markdown",
   "metadata": {},
   "source": [
    "## Aufgabe 1  (Theorie)"
   ]
  },
  {
   "cell_type": "markdown",
   "metadata": {},
   "source": [
    "1) Was ist das Ziel des Boosting Algorithmus?"
   ]
  },
  {
   "cell_type": "markdown",
   "metadata": {},
   "source": [
    "2) Was versteht man unter `Bootstrapping` und wo wird es benötig? "
   ]
  },
  {
   "cell_type": "markdown",
   "metadata": {},
   "source": [
    "3) Was verteht man unter `Konfusionsmatrix` ?"
   ]
  },
  {
   "cell_type": "markdown",
   "metadata": {},
   "source": [
    "## Aufgabe 2 : Random Forest "
   ]
  },
  {
   "cell_type": "markdown",
   "metadata": {},
   "source": [
    "Für diese Aufgabe benötigen Sie den Datensatz über Herzerkrankungen von dem UCI machine learning repository.  \n",
    "Url für den Datasatz: http://archive.ics.uci.edu/ml/machine-learning-databases/heart-disease/processed.cleveland.data\n",
    "Informationen über den Datasatz: http://archive.ics.uci.edu/ml/datasets/Heart+Disease\n",
    "\n",
    "### 2.1 Daten bearbeiten\n",
    "\n",
    "1) Betrachten Sie die ersten Zeilen des Datensatzes. Benennen Sie sinnvoll die Variablen um, mit Hilfe der oben angegebenen Seite.\n",
    "\n",
    "2) Geben Sie die Struktur des Datensatzes aus. Falls es Missings gibt (?), ersetzen Sie die mit \"NA\". Konvertieren Sie Variablen, die tatsächlich Faktoren sind, jedoch im Datensatz numerische Datentypen sind, in Faktoren um und überprüfen Sie, ob alles geklappt hat. <br>\n",
    "\n",
    "**Hinweis Nr.1 :** Für die Variable \"Sex\" müssen Sie erst eine ifelse-Methode benutzen wie folgt : `data$sex <- ifelse(test=data$sex ==0, yes=\"F\", no= \"M\")` und dann in den Faktor konvertieren. Die gleiche Methode wird auch bei der Variable \"num\"(diagnosis of heart disease) benötigt. Vergeben Sie die zwei Werte : Healthy & Unhealthy\n",
    "\n",
    "**Hinweis Nr.2 :** Variablen die ein \"NA\" enthalten, müssen erst als integer definiert werden und dann als Faktoren\n",
    "### 2.2 Random Forest bilden. \n",
    "\n",
    "1) Library(randomForest) und set.seed(42) einfügen,dass jeder den gleichen Random Forest generiert. <br>\n",
    "2) Erst müssen Sie für die \"NA\"s  mit Hilfe der [rfImpute](https://www.rdocumentation.org/packages/randomForest/versions/4.6-14/topics/rfImpute) function Werte angeben. \n",
    "\n",
    "3) `num` ist die Variable, die der Random Forest vorhersagen soll. Legen Sie die Anzahl von Iterationen gleich 6 fest. Jetzt können Sie einen Random Forest mit 300 Bäume generieren.\n",
    "\n",
    "4) Intepretieren Sie den Wert von `OOB estimate of  error rate` und berechnen Sie den Durchschnitt des OOB- Fehlerschätzers. Was verstehen Sie unter diesem Wert? \n",
    "\n",
    "5) Zeigen Sie welche Variablen am wichtigsten sind.\n",
    "\n",
    "6) Ist die Anzahl von Bäumen eine gute Anzahl für unseren Datensatz?"
   ]
  },
  {
   "cell_type": "markdown",
   "metadata": {},
   "source": [
    "![Viel Erfolg](img/VielErfolg.jpg)"
   ]
  }
 ],
 "metadata": {
  "kernelspec": {
   "display_name": "R",
   "language": "R",
   "name": "ir"
  },
  "language_info": {
   "codemirror_mode": "r",
   "file_extension": ".r",
   "mimetype": "text/x-r-source",
   "name": "R",
   "pygments_lexer": "r",
   "version": "3.4.3"
  }
 },
 "nbformat": 4,
 "nbformat_minor": 2
}
